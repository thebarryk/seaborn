{
 "cells": [
  {
   "cell_type": "markdown",
   "metadata": {},
   "source": [
    "# FoodWheel: Let the Food Choose For You\n",
    "FoodWheel is a startup delivery service that takes away the struggle of deciding where to eat! FoodWheel picks you an amazing local restaurant and lets you order through the app. Senior leadership is getting ready for a big board meeting, and as the resident Data Analyst, you have been enlisted to help decipher data and create a presentation to answer several key questions:\n",
    "\n",
    "- What cuisines does FoodWheel offer? Which areas should the company search for more restaurants to partner with?\n",
    "- How has the average order amount changed over time? What does this say about the trajectory of the company?\n",
    "- How much has each customer on FoodWheel spent over the past six months? What can this tell us about the average FoodWheel customer?"
   ]
  },
  {
   "cell_type": "code",
   "execution_count": 268,
   "metadata": {},
   "outputs": [],
   "source": [
    "import pandas as pd\n",
    "from matplotlib import pyplot as plt\n",
    "import re\n",
    "\n",
    "def head(lst, n=5):\n",
    "    # head n lines of list\n",
    "    for i in range(min(n,len(lst))):\n",
    "        print(i, ':', lst[i])\n",
    "\n",
    "def chomp(str):\n",
    "    return str.rstrip('\\n\\r')\n",
    "\n",
    "quotes = lambda x: ['\"' + a + '\"' for a in x]\n",
    "\n",
    "colors = ['lightskyblue', 'gold', 'lightcoral', 'gainsboro', 'royalblue', \\\n",
    "          'lightpink', 'darkseagreen', 'sienna', 'khaki', 'gold', 'violet', \\\n",
    "          'yellowgreen']"
   ]
  },
  {
   "cell_type": "markdown",
   "metadata": {},
   "source": [
    "Obtain FoodWheel data. \n",
    "Codecademy did not make the csv available.\n",
    "Somehow read_csv could still read it and print it. I copied it from\n",
    "the screen and pasted into file raw_df.tst. Here's code to read it\n",
    "and write it to a csv file."
   ]
  },
  {
   "cell_type": "code",
   "execution_count": 269,
   "metadata": {},
   "outputs": [],
   "source": [
    "def prep_restaurants(infile, outfile):\n",
    "    # Read the data pasted into a file\n",
    "#     with open('raw_df.txt', 'r') as f:\n",
    "    with open(infile, 'r') as f:\n",
    "        raw = f.readlines()\n",
    "    f.close()\n",
    "\n",
    "    # chomp\n",
    "    raw = [chomp(l) for l in raw]\n",
    "    # head(raw)\n",
    "\n",
    "    # Separate into header and body\n",
    "    header = raw[0]\n",
    "    body = raw[1:]\n",
    "    # head(body)\n",
    "\n",
    "    # Split each line of body into words separated by spaces\n",
    "    # Ignore first 2 words\n",
    "    def words(lst):\n",
    "        x = lst.split()[2:]\n",
    "        restaurant = [' '.join(x[:-2])]\n",
    "        return ' ,'.join(quotes(restaurant + x[-2:]))\n",
    "\n",
    "    newbody = [ words(x) for x in body]\n",
    "    # head(newbody)\n",
    "\n",
    "    # Split the header\n",
    "    newheader = ','.join(quotes(header.split()[1:]))\n",
    "\n",
    "    # Output to a file\n",
    "#     with open('restaurants.csv', 'w') as f:\n",
    "    with open(outfile, 'w') as f:\n",
    "        f.write('{}\\n'.format(newheader))\n",
    "        for a in newbody:\n",
    "            f.write('{}\\n'.format(a))\n",
    "    f.close()"
   ]
  },
  {
   "cell_type": "code",
   "execution_count": 270,
   "metadata": {},
   "outputs": [
    {
     "data": {
      "text/html": [
       "<div>\n",
       "<style scoped>\n",
       "    .dataframe tbody tr th:only-of-type {\n",
       "        vertical-align: middle;\n",
       "    }\n",
       "\n",
       "    .dataframe tbody tr th {\n",
       "        vertical-align: top;\n",
       "    }\n",
       "\n",
       "    .dataframe thead th {\n",
       "        text-align: right;\n",
       "    }\n",
       "</style>\n",
       "<table border=\"1\" class=\"dataframe\">\n",
       "  <thead>\n",
       "    <tr style=\"text-align: right;\">\n",
       "      <th></th>\n",
       "      <th>name</th>\n",
       "      <th>neighborhood</th>\n",
       "      <th>cuisine</th>\n",
       "    </tr>\n",
       "  </thead>\n",
       "  <tbody>\n",
       "    <tr>\n",
       "      <th>0</th>\n",
       "      <td>Jongro BBQ</td>\n",
       "      <td>Midtown</td>\n",
       "      <td>Korean</td>\n",
       "    </tr>\n",
       "    <tr>\n",
       "      <th>1</th>\n",
       "      <td>Pocha 32</td>\n",
       "      <td>Midtown</td>\n",
       "      <td>Korean</td>\n",
       "    </tr>\n",
       "    <tr>\n",
       "      <th>2</th>\n",
       "      <td>Nom Wah Tea Parlor</td>\n",
       "      <td>Chinatown</td>\n",
       "      <td>Chinese</td>\n",
       "    </tr>\n",
       "    <tr>\n",
       "      <th>3</th>\n",
       "      <td>Robertas</td>\n",
       "      <td>Brooklyn</td>\n",
       "      <td>Pizza</td>\n",
       "    </tr>\n",
       "    <tr>\n",
       "      <th>4</th>\n",
       "      <td>Speedy Romeo</td>\n",
       "      <td>Brooklyn</td>\n",
       "      <td>Pizza</td>\n",
       "    </tr>\n",
       "  </tbody>\n",
       "</table>\n",
       "</div>"
      ],
      "text/plain": [
       "                  name neighborhood  cuisine\n",
       "0          Jongro BBQ      Midtown    Korean\n",
       "1            Pocha 32      Midtown    Korean\n",
       "2  Nom Wah Tea Parlor    Chinatown   Chinese\n",
       "3            Robertas     Brooklyn     Pizza\n",
       "4        Speedy Romeo     Brooklyn     Pizza"
      ]
     },
     "execution_count": 270,
     "metadata": {},
     "output_type": "execute_result"
    }
   ],
   "source": [
    "# Read the DataFrame\n",
    "\n",
    "# Only needed once\n",
    "# prep_restaurants('raw_df.txt', 'restaurants.csv')\n",
    "\n",
    "restaurants = pd.read_csv('restaurants.csv')\n",
    "restaurants.head()"
   ]
  },
  {
   "cell_type": "code",
   "execution_count": 271,
   "metadata": {},
   "outputs": [
    {
     "name": "stdout",
     "output_type": "stream",
     "text": [
      "Object `offer` not found.\n"
     ]
    }
   ],
   "source": [
    "4. How many different types of cuisine does FoodWheel offer?"
   ]
  },
  {
   "cell_type": "code",
   "execution_count": null,
   "metadata": {},
   "outputs": [],
   "source": [
    "4. How many different types of cuisine does FoodWheel offer"
   ]
  },
  {
   "cell_type": "code",
   "execution_count": 272,
   "metadata": {},
   "outputs": [
    {
     "ename": "SyntaxError",
     "evalue": "invalid syntax (<ipython-input-272-9c6a3586105b>, line 1)",
     "output_type": "error",
     "traceback": [
      "\u001b[0;36m  File \u001b[0;32m\"<ipython-input-272-9c6a3586105b>\"\u001b[0;36m, line \u001b[0;32m1\u001b[0m\n\u001b[0;31m    4. How many different types of cuisine does FoodWheel offer\u001b[0m\n\u001b[0m       ^\u001b[0m\n\u001b[0;31mSyntaxError\u001b[0m\u001b[0;31m:\u001b[0m invalid syntax\n"
     ]
    }
   ],
   "source": [
    "4. How many different types of cuisine does FoodWheel offer"
   ]
  },
  {
   "cell_type": "code",
   "execution_count": null,
   "metadata": {},
   "outputs": [],
   "source": [
    "cuisine_options_count = restaurants.cuisine.nunique()\n",
    "print(cuisine_options_count)"
   ]
  },
  {
   "cell_type": "markdown",
   "metadata": {},
   "source": [
    "5. count the number of restaurants of each cuisine. Use groupby and count. Save your results to cuisine_counts"
   ]
  },
  {
   "cell_type": "code",
   "execution_count": null,
   "metadata": {},
   "outputs": [],
   "source": [
    "cuisine_counts = restaurants.groupby('cuisine').count()['name'].reset_index()\n",
    "cuisine_counts.columns = ['cuisine', 'num_restaurants']\n",
    "cuisine_counts\n"
   ]
  },
  {
   "cell_type": "markdown",
   "metadata": {},
   "source": [
    "#What cuisines does FoodWheel offer?\n",
    "1.   creating two variables:\n",
    "\n",
    "- cuisines contains the values of the column cuisine from cuisine_counts.\n",
    "- counts contains the number of restaurants of each cuisine from cuisine_counts."
   ]
  },
  {
   "cell_type": "code",
   "execution_count": null,
   "metadata": {},
   "outputs": [],
   "source": [
    "cuisines = cuisine_counts['cuisine'].values\n",
    "print(cuisines)\n",
    "counts = cuisine_counts['num_restaurants'].values\n",
    "print(counts)"
   ]
  },
  {
   "cell_type": "markdown",
   "metadata": {},
   "source": [
    "2. use the values from counts to create a pie chart. Make sure that your pie chart includes:\n",
    "\n",
    "- Labels for each cuisine (i.e, “American”, “Chinese”, etc.) from cuisines\n",
    "- Percent labels using autopct\n",
    "- A title\n",
    "- Use plt.axis to make the pie chart a perfect circle\n",
    "- plt.show() to display your chart"
   ]
  },
  {
   "cell_type": "code",
   "execution_count": null,
   "metadata": {},
   "outputs": [],
   "source": [
    "fig, ax = plt.subplots(figsize=(10,6))\n",
    "plt.axis('equal')\n",
    "plt.pie(counts, colors=colors, autopct='%d%%', labels=cuisines)\n",
    "plt.title('Number of Restaurants by Type of Cuisine')\n",
    "plt.show()"
   ]
  },
  {
   "cell_type": "markdown",
   "metadata": {},
   "source": [
    "### Orders Over Time\n",
    "Read the orders.csv. Again it was not provided directly in Codecademy.\n",
    "This time I will use a different process because print(df) did not\n",
    "show all 500 lines, only 50.\n",
    "\n",
    "In Codecademy, print(df) is replaced by:\n",
    "\n",
    "    import re\n",
    "    with open('orders.csv') as f:\n",
    "        x = f.readlines()\n",
    "    for l in x:\n",
    "      l = re.sub('^[^,]*,', '', l)  # drop extra index column\n",
    "      print(l.rstrip('\\n\\r'))\n",
    " \n",
    "The result can be copied and pasted directly into file for use with read_csv."
   ]
  },
  {
   "cell_type": "code",
   "execution_count": null,
   "metadata": {},
   "outputs": [],
   "source": [
    "orders = pd.read_csv('orders.csv')\n",
    "orders"
   ]
  },
  {
   "cell_type": "markdown",
   "metadata": {},
   "source": [
    "Create a new column in orders called month that contains the month that the order was placed.\n",
    "\n",
    "- Convert the string to a date object, and extract the name of the month.\n",
    "- Use a lambda function to perform the work with apply method."
   ]
  },
  {
   "cell_type": "code",
   "execution_count": null,
   "metadata": {},
   "outputs": [],
   "source": [
    "# from datetime import date\n",
    "from datetime import datetime\n",
    "\n",
    "# Convert the string to a date object, and extract the name of the month.\n",
    "# Use a lambda function to perform the work\n",
    "\n",
    "fn = lambda x: datetime.strptime(x, '%m-%d-%Y').strftime('%B')\n",
    "orders['month'] = orders.date.apply(fn)\n",
    "orders"
   ]
  },
  {
   "cell_type": "markdown",
   "metadata": {},
   "source": [
    "Group orders by month and get the average order price in each month. Save your answer to avg_order."
   ]
  },
  {
   "cell_type": "code",
   "execution_count": null,
   "metadata": {},
   "outputs": [],
   "source": [
    "avg_order = orders.groupby('month').price.mean().reset_index()\n",
    "avg_order"
   ]
  },
  {
   "cell_type": "markdown",
   "metadata": {},
   "source": [
    "Going to make a bar chart with this information. It would be nice if our bar chart had error bars. Calculate the standard deviation for the average price of orders for each month using std. Save this to std_order."
   ]
  },
  {
   "cell_type": "code",
   "execution_count": null,
   "metadata": {},
   "outputs": [],
   "source": [
    "std_order = orders.groupby('month').price.std().reset_index()\n",
    "std_order"
   ]
  },
  {
   "cell_type": "markdown",
   "metadata": {},
   "source": [
    "Create a set of axes using plt.subplot and saving them to the variable ax."
   ]
  },
  {
   "cell_type": "code",
   "execution_count": null,
   "metadata": {},
   "outputs": [],
   "source": [
    "bar_heights = avg_order.price.values\n",
    "bar_heights"
   ]
  },
  {
   "cell_type": "markdown",
   "metadata": {},
   "source": [
    "Create a variable with the standard deviation of prices in it by selecting the column price from std_order. Save this to bar_errors."
   ]
  },
  {
   "cell_type": "code",
   "execution_count": null,
   "metadata": {},
   "outputs": [],
   "source": [
    "bar_errors = std_order.price.values\n",
    "bar_errors"
   ]
  },
  {
   "cell_type": "markdown",
   "metadata": {},
   "source": [
    "Create a bar chart to share this data.\n",
    "\n",
    "- Create an axes object called ax using plt.subplot.\n",
    "- The height of each bar should come from bar_heights\n",
    "- Use the standard deviations in bar_errors as the yerr\n",
    "- The error capsize should be 5\n",
    "- Make sure that you label each bar with the name of the month (i.e., 4 = April).\n",
    "- Also be sure to label the y-axis\n",
    "- Give your plot a descriptive title"
   ]
  },
  {
   "cell_type": "code",
   "execution_count": null,
   "metadata": {},
   "outputs": [],
   "source": [
    "# fig, ax = plt.subplots(figsize=(8,6))\n",
    "fig = plt.figure(figsize=(8,6))\n",
    "ax = plt.subplot()\n",
    "x = avg_order.month\n",
    "avg_price = bar_heights\n",
    "xpos = list(range(len(x)))\n",
    "plt.bar(xpos, avg_price, yerr=bar_errors, capsize=5)\n",
    "plt.title('Monthly Variation of Orders')\n",
    "plt.xlabel('Months')\n",
    "plt.ylabel('Orders')\n",
    "ax.set_xticks(xpos)\n",
    "ax.set_xticklabels(x)\n",
    "plt.show()\n"
   ]
  },
  {
   "cell_type": "markdown",
   "metadata": {},
   "source": [
    "### Customer Types\n",
    "\n",
    "There is a range of amounts that customers spend on FoodWheel. Let’s investigate and aim to answer our final question:\n",
    "\n",
    "- How much has each customer on FoodWheel spent over the past six months? What can this tell us about the average FoodWheel customer?\n",
    "\n",
    "Start by grouping orders by customer_id and calculating the sum of price spent by each customer. Save your results to customer_amount."
   ]
  },
  {
   "cell_type": "code",
   "execution_count": 276,
   "metadata": {},
   "outputs": [
    {
     "data": {
      "text/html": [
       "<div>\n",
       "<style scoped>\n",
       "    .dataframe tbody tr th:only-of-type {\n",
       "        vertical-align: middle;\n",
       "    }\n",
       "\n",
       "    .dataframe tbody tr th {\n",
       "        vertical-align: top;\n",
       "    }\n",
       "\n",
       "    .dataframe thead th {\n",
       "        text-align: right;\n",
       "    }\n",
       "</style>\n",
       "<table border=\"1\" class=\"dataframe\">\n",
       "  <thead>\n",
       "    <tr style=\"text-align: right;\">\n",
       "      <th></th>\n",
       "      <th>customer_id</th>\n",
       "      <th>price</th>\n",
       "    </tr>\n",
       "  </thead>\n",
       "  <tbody>\n",
       "    <tr>\n",
       "      <th>0</th>\n",
       "      <td>0</td>\n",
       "      <td>83.0</td>\n",
       "    </tr>\n",
       "    <tr>\n",
       "      <th>1</th>\n",
       "      <td>2</td>\n",
       "      <td>11.0</td>\n",
       "    </tr>\n",
       "    <tr>\n",
       "      <th>2</th>\n",
       "      <td>3</td>\n",
       "      <td>65.0</td>\n",
       "    </tr>\n",
       "    <tr>\n",
       "      <th>3</th>\n",
       "      <td>4</td>\n",
       "      <td>32.0</td>\n",
       "    </tr>\n",
       "    <tr>\n",
       "      <th>4</th>\n",
       "      <td>5</td>\n",
       "      <td>119.0</td>\n",
       "    </tr>\n",
       "    <tr>\n",
       "      <th>...</th>\n",
       "      <td>...</td>\n",
       "      <td>...</td>\n",
       "    </tr>\n",
       "    <tr>\n",
       "      <th>219</th>\n",
       "      <td>245</td>\n",
       "      <td>68.0</td>\n",
       "    </tr>\n",
       "    <tr>\n",
       "      <th>220</th>\n",
       "      <td>246</td>\n",
       "      <td>16.0</td>\n",
       "    </tr>\n",
       "    <tr>\n",
       "      <th>221</th>\n",
       "      <td>247</td>\n",
       "      <td>35.0</td>\n",
       "    </tr>\n",
       "    <tr>\n",
       "      <th>222</th>\n",
       "      <td>248</td>\n",
       "      <td>89.0</td>\n",
       "    </tr>\n",
       "    <tr>\n",
       "      <th>223</th>\n",
       "      <td>249</td>\n",
       "      <td>27.0</td>\n",
       "    </tr>\n",
       "  </tbody>\n",
       "</table>\n",
       "<p>224 rows × 2 columns</p>\n",
       "</div>"
      ],
      "text/plain": [
       "     customer_id  price\n",
       "0              0   83.0\n",
       "1              2   11.0\n",
       "2              3   65.0\n",
       "3              4   32.0\n",
       "4              5  119.0\n",
       "..           ...    ...\n",
       "219          245   68.0\n",
       "220          246   16.0\n",
       "221          247   35.0\n",
       "222          248   89.0\n",
       "223          249   27.0\n",
       "\n",
       "[224 rows x 2 columns]"
      ]
     },
     "execution_count": 276,
     "metadata": {},
     "output_type": "execute_result"
    }
   ],
   "source": [
    "customer_amount = orders.groupby('customer_id').price.sum().reset_index()\n",
    "customer_amount"
   ]
  },
  {
   "cell_type": "markdown",
   "metadata": {},
   "source": [
    "Create a histogram of this data.\n",
    "\n",
    "- The range should be from 0 to 200\n",
    "- The number of bins should be 40\n",
    "- Label the x-axis Total Spent\n",
    "- Label the y-axis Number of Customers\n",
    "- Add a title"
   ]
  },
  {
   "cell_type": "code",
   "execution_count": 279,
   "metadata": {},
   "outputs": [
    {
     "data": {
      "image/png": "[encoded data removed]",
      "text/plain": [
       "<Figure size 576x432 with 1 Axes>"
      ]
     },
     "metadata": {
      "needs_background": "light"
     },
     "output_type": "display_data"
    }
   ],
   "source": [
    "fig, ax = plt.subplots(figsize=(8,6))\n",
    "x = customer_amount.price.values\n",
    "plt.hist(x, range=(0,200), bins=40)\n",
    "plt.title('Histogram of Price')\n",
    "plt.xlabel('Total Price')\n",
    "plt.ylabel('Number of Customers')\n",
    "plt.show()"
   ]
  },
  {
   "cell_type": "code",
   "execution_count": null,
   "metadata": {},
   "outputs": [],
   "source": []
  }
 ],
 "metadata": {
  "kernelspec": {
   "display_name": "Python 3",
   "language": "python",
   "name": "python3"
  },
  "language_info": {
   "codemirror_mode": {
    "name": "ipython",
    "version": 3
   },
   "file_extension": ".py",
   "mimetype": "text/x-python",
   "name": "python",
   "nbconvert_exporter": "python",
   "pygments_lexer": "ipython3",
   "version": "3.8.3"
  }
 },
 "nbformat": 4,
 "nbformat_minor": 4
}
